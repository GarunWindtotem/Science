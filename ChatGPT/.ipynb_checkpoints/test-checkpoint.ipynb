{
 "cells": [
  {
   "cell_type": "code",
   "execution_count": 173,
   "id": "6dcc031d",
   "metadata": {},
   "outputs": [],
   "source": [
    "import matplotlib.pyplot as plt\n",
    "import networkx as nx\n",
    "import pandas as pd\n",
    "import math"
   ]
  },
  {
   "cell_type": "code",
   "execution_count": 174,
   "id": "96427757",
   "metadata": {},
   "outputs": [],
   "source": [
    "def import_from_excel(filename):\n",
    "    df = pd.read_excel(filename)\n",
    "    connections = {}\n",
    "    for index, row in df.iterrows():\n",
    "        person = row['person']\n",
    "        connection = row['connection']\n",
    "        weight = row['weight']\n",
    "        if person not in connections:\n",
    "            connections[person] = []\n",
    "        connections[person].append({'person': connection, 'weight': weight})\n",
    "    return connections"
   ]
  },
  {
   "cell_type": "code",
   "execution_count": 175,
   "id": "c01d573b",
   "metadata": {},
   "outputs": [],
   "source": [
    "def visualize_connections1(connections):\n",
    "    G = nx.Graph()\n",
    "    for person, connections in connections.items():\n",
    "        G.add_node(person)\n",
    "        for connection in connections:\n",
    "            G.add_edge(person, connection['person'], weight=connection['weight'])\n",
    "    pos = nx.circular_layout(G)\n",
    "    nx.draw(G, pos, with_labels=True, font_weight='bold', width=[d['weight']*0.5 for (u,v,d) in G.edges(data=True)])\n",
    "    plt.show()"
   ]
  },
  {
   "cell_type": "code",
   "execution_count": 176,
   "id": "dd85a0cb",
   "metadata": {},
   "outputs": [],
   "source": [
    "import matplotlib.pyplot as plt\n",
    "import networkx as nx\n",
    "\n",
    "def visualize_connections2(connections):\n",
    "    G = nx.Graph()\n",
    "    for person, connections in connections.items():\n",
    "        G.add_node(person)\n",
    "        for connection in connections:\n",
    "            G.add_edge(person, connection['person'], weight=connection['weight'])\n",
    "    pos = nx.spring_layout(G, k=1/math.sqrt(len(G.nodes())), weight='weight')\n",
    "    nx.draw(G, pos, with_labels=True, font_weight='bold')\n",
    "    plt.show()\n"
   ]
  },
  {
   "cell_type": "code",
   "execution_count": 177,
   "id": "f6c07fe6",
   "metadata": {},
   "outputs": [],
   "source": [
    "import matplotlib.pyplot as plt\n",
    "import networkx as nx\n",
    "\n",
    "def visualize_connections3(connections):\n",
    "    G = nx.Graph()\n",
    "    for person, connections in connections.items():\n",
    "        G.add_node(person)\n",
    "        for connection in connections:\n",
    "            G.add_edge(person, connection['person'], weight=connection['weight'])\n",
    "    pos = nx.spring_layout(G, k=1/math.sqrt(len(G.nodes())), weight='weight')\n",
    "    node_colors = [connection['weight'] for _, connections in connections.items() for connection in connections]\n",
    "    edge_colors = [G[u][v]['weight'] for u, v in G.edges()]\n",
    "    nx.draw(G, pos, node_color=node_colors, edge_color=edge_colors, with_labels=True, font_weight='bold', cmap=plt.cm.Blues)\n",
    "    plt.show()\n"
   ]
  },
  {
   "cell_type": "code",
   "execution_count": 178,
   "id": "ef38cb6b",
   "metadata": {},
   "outputs": [],
   "source": [
    "import matplotlib.pyplot as plt\n",
    "import networkx as nx\n",
    "\n",
    "def visualize_connections4(connections):\n",
    "    G = nx.Graph()\n",
    "    for person, connections in connections.items():\n",
    "        G.add_node(person)\n",
    "        for connection in connections:\n",
    "            G.add_edge(person, connection['person'], weight=connection['weight'])\n",
    "    pos = nx.spring_layout(G, k=1/math.sqrt(len(G.nodes())), weight='weight')\n",
    "    node_colors = [connection['weight'] for _, connections in connections.items() for connection in connections]\n",
    "    edge_colors = [G[u][v]['weight'] for u, v in G.edges()]\n",
    "    nx.draw(G, pos, node_color=node_colors, edge_color=edge_colors, with_labels=True, font_weight='bold', cmap=plt.cm.Blues)\n",
    "    plt.show()"
   ]
  },
  {
   "cell_type": "code",
   "execution_count": 179,
   "id": "49d08cc6",
   "metadata": {},
   "outputs": [],
   "source": [
    "def visualize_connections5(connections):\n",
    "    G = nx.Graph()\n",
    "    for person, connections in connections.items():\n",
    "        G.add_node(person)\n",
    "        for connection in connections:\n",
    "            G.add_edge(person, connection['person'], weight=connection['weight'])\n",
    "    pos = nx.spring_layout(G, k=1/math.sqrt(len(G.nodes())), weight='weight')\n",
    "   # node_colors = [connection['weight'] for _, connections in connections.items() for connection in connections]\n",
    "    node_colors = [G.degree(node, weight='weight') for node in G.nodes()]\n",
    "    edge_colors = ['red' if G[u][v]['weight'] > 10 else 'black' for u, v in G.edges()]\n",
    "    nx.draw(G, pos, node_colors, edge_color=edge_colors, with_labels=True, font_weight='bold', cmap=plt.cm.Blues)\n",
    "    plt.show()"
   ]
  },
  {
   "cell_type": "code",
   "execution_count": 180,
   "id": "89a737ac",
   "metadata": {},
   "outputs": [],
   "source": [
    "import matplotlib.pyplot as plt\n",
    "import networkx as nx\n",
    "\n",
    "def visualize_connections6(connections):\n",
    "    G = nx.Graph()\n",
    "    for person, connections in connections.items():\n",
    "        G.add_node(person)\n",
    "        for connection in connections:\n",
    "            G.add_edge(person, connection['person'], weight=connection['weight'])\n",
    "    pos = nx.spring_layout(G, k=1/math.sqrt(len(G.nodes())), weight='weight')\n",
    "    edge_colors = ['red' if G[u][v]['weight'] > 10 else 'black' for u, v in G.edges()]\n",
    "    nx.draw(G, pos, node_color=RGB(200,0,0), edge_color=edge_colors, with_labels=True, font_weight='bold', cmap=plt.cm.Blues)\n",
    "    plt.show()"
   ]
  },
  {
   "cell_type": "code",
   "execution_count": 181,
   "id": "d0de1b35",
   "metadata": {},
   "outputs": [
    {
     "name": "stdout",
     "output_type": "stream",
     "text": [
      "#1a0000\n"
     ]
    }
   ],
   "source": [
    "import matplotlib.colors\n",
    "\n",
    "rgb_color = (0.6, 0, 0)\n",
    "hex_color = matplotlib.colors.to_hex(rgb_color)\n",
    "print(hex_color)  # Output: '#FF0000'\n",
    "\n"
   ]
  },
  {
   "cell_type": "code",
   "execution_count": 182,
   "id": "6db86f47",
   "metadata": {},
   "outputs": [],
   "source": [
    "def visualize_connections(connections):\n",
    "    G = nx.Graph()\n",
    "    for person, connections in connections.items():\n",
    "        G.add_node(person)\n",
    "        for connection in connections:\n",
    "            G.add_edge(person, connection['person'], weight=connection['weight'])\n",
    "    pos = nx.spring_layout(G, k=1/math.sqrt(len(G.nodes())), weight='weight')\n",
    "    node_colors = [rgb_color for node in G.nodes()]  # Red color\n",
    "    edge_colors = ['red' if G[u][v]['weight'] > 10 else 'black' for u, v in G.edges()]\n",
    "    nx.draw(G, pos, node_color=node_colors, edge_color=edge_colors, with_labels=True, font_weight='bold', cmap=plt.cm.Blues)\n",
    "    plt.show()"
   ]
  },
  {
   "cell_type": "code",
   "execution_count": 183,
   "id": "d0fcf302",
   "metadata": {},
   "outputs": [],
   "source": [
    "def export_to_excel(connections):\n",
    "    data = []\n",
    "    for person, connections in connections.items():\n",
    "        for connection in connections:\n",
    "            data.append({'person': person, 'connection': connection['person'], 'weight': connection['weight']})\n",
    "    df = pd.DataFrame(data)\n",
    "    df.to_excel('connections_output.xlsx', index=False)"
   ]
  },
  {
   "cell_type": "code",
   "execution_count": 184,
   "id": "8663b80f",
   "metadata": {},
   "outputs": [
    {
     "data": {
      "image/png": "[encoded data removed]",
      "text/plain": [
       "<Figure size 640x480 with 1 Axes>"
      ]
     },
     "metadata": {},
     "output_type": "display_data"
    }
   ],
   "source": [
    "connections = import_from_excel('connections_input.xlsx')\n",
    "visualize_connections(connections)\n",
    "export_to_excel(connections)\n",
    "\n",
    "# connections = {\n",
    "#    'Person 1': [{'person': 'Person 2', 'weight': 2}, {'person': 'Person 3', 'weight': 3}],\n",
    "#    'Person 2': [{'person': 'Person 1', 'weight': 2}, {'person': 'Person 3', 'weight': 1}, {'person': 'Person 4', 'weight': 3}],\n",
    "#    'Person 3': [{'person': 'Person 1', 'weight': 3}, {'person': 'Person 2', 'weight': 1}, {'person': 'Person 4', 'weight': 2}, {'person': 'Person 5', 'weight': 3}],\n",
    "#    'Person 4': [{'person': 'Person 2', 'weight': 3}, {'person': 'Person 3', 'weight': 2}, {'person': 'Person 5', 'weight': 1}],\n",
    "#    'Person 5': [{'person': 'Person 3', 'weight': 3}, {'person': 'Person 4', 'weight': 1}]\n",
    "# }"
   ]
  },
  {
   "cell_type": "code",
   "execution_count": null,
   "id": "1210a447",
   "metadata": {},
   "outputs": [],
   "source": []
  },
  {
   "cell_type": "code",
   "execution_count": null,
   "id": "aa9d6467",
   "metadata": {},
   "outputs": [],
   "source": []
  },
  {
   "cell_type": "code",
   "execution_count": null,
   "id": "c1cf7ec4",
   "metadata": {},
   "outputs": [],
   "source": []
  },
  {
   "cell_type": "code",
   "execution_count": null,
   "id": "80cf802c",
   "metadata": {},
   "outputs": [],
   "source": []
  },
  {
   "cell_type": "code",
   "execution_count": null,
   "id": "032db4e8",
   "metadata": {},
   "outputs": [],
   "source": []
  },
  {
   "cell_type": "code",
   "execution_count": null,
   "id": "342b365e",
   "metadata": {},
   "outputs": [],
   "source": []
  },
  {
   "cell_type": "code",
   "execution_count": null,
   "id": "e946e98f",
   "metadata": {},
   "outputs": [],
   "source": []
  }
 ],
 "metadata": {
  "kernelspec": {
   "display_name": "Python 3 (ipykernel)",
   "language": "python",
   "name": "python3"
  },
  "language_info": {
   "codemirror_mode": {
    "name": "ipython",
    "version": 3
   },
   "file_extension": ".py",
   "mimetype": "text/x-python",
   "name": "python",
   "nbconvert_exporter": "python",
   "pygments_lexer": "ipython3",
   "version": "3.9.13"
  }
 },
 "nbformat": 4,
 "nbformat_minor": 5
}

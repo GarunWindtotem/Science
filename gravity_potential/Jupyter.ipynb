{
 "cells": [
  {
   "cell_type": "code",
   "execution_count": 73,
   "id": "811bd30f",
   "metadata": {},
   "outputs": [],
   "source": [
    "import matplotlib.pyplot as plt\n",
    "import numpy as np"
   ]
  },
  {
   "cell_type": "code",
   "execution_count": 82,
   "id": "3ef36138",
   "metadata": {},
   "outputs": [
    {
     "name": "stdout",
     "output_type": "stream",
     "text": [
      "0.2\n",
      "0.4\n",
      "0.6\n",
      "0.8\n",
      "1\n",
      "range(0, 10)\n"
     ]
    }
   ],
   "source": [
    "\n",
    "# Number of points to use\n",
    "n = 10\n",
    "\n",
    "# Radius of the circle\n",
    "r = 1\n",
    "r = [0.2, 0.4, 0.6, 0.8, 1]\n",
    "\n",
    "for item in r:\n",
    "    print(item)"
   ]
  },
  {
   "cell_type": "code",
   "execution_count": 84,
   "id": "aef045f2",
   "metadata": {},
   "outputs": [
    {
     "name": "stdout",
     "output_type": "stream",
     "text": [
      "range(0, 10)\n",
      "1\n"
     ]
    }
   ],
   "source": [
    "print(range(n))\n",
    "print(r[4])"
   ]
  },
  {
   "cell_type": "code",
   "execution_count": 96,
   "id": "cd8ad9d2",
   "metadata": {},
   "outputs": [],
   "source": [
    "points=[]\n",
    "for i in range(n):\n",
    "    angle = 2 * np.pi * i / n\n",
    "    x = r[0] * np.cos(angle)\n",
    "    y = r[0] * np.sin(angle)\n",
    "    points.append((x, y))\n",
    "#print(f'points= \\n{points}\\n')\n",
    "\n",
    "# Unpack the points into separate lists of x and y coordinates\n",
    "x_sun_r0, y_sun_r0 = zip(*points)\n",
    "#print(f'x_sun_r0= \\n{x_sun_r0}\\n')\n",
    "#print(f'y_sun_r0= \\n{y_sun_r0}\\n')"
   ]
  },
  {
   "cell_type": "code",
   "execution_count": 97,
   "id": "1c1bc702",
   "metadata": {},
   "outputs": [],
   "source": [
    "points=[]\n",
    "for i in range(n):\n",
    "    angle = 2 * np.pi * i / n\n",
    "    x = r[1] * np.cos(angle)\n",
    "    y = r[1] * np.sin(angle)\n",
    "    points.append((x, y))\n",
    "#print(f'points= \\n{points}\\n')\n",
    "\n",
    "# Unpack the points into separate lists of x and y coordinates\n",
    "x_sun_r1, y_sun_r1 = zip(*points)\n",
    "#print(f'x_sun_r0= \\n{x_sun_r1}\\n')\n",
    "#print(f'y_sun_r0= \\n{y_sun_r1}\\n')"
   ]
  },
  {
   "cell_type": "code",
   "execution_count": null,
   "id": "43979648",
   "metadata": {},
   "outputs": [],
   "source": []
  },
  {
   "cell_type": "code",
   "execution_count": null,
   "id": "bf508388",
   "metadata": {},
   "outputs": [],
   "source": [
    "points=[]\n",
    "for i in range(n):\n",
    "    angle = 2 * np.pi * i / n\n",
    "    x = r[0] * np.cos(angle)\n",
    "    y = r[0] * np.sin(angle)\n",
    "    points.append((x, y))\n",
    "x_sun_r0, y_sun_r0 = zip(*points)\n",
    "\n",
    "#print(f'points= \\n{points}\\n')\n",
    "\n",
    "# Unpack the points into separate lists of x and y coordinates\n",
    "#print(f'x_sun_r0= \\n{x_sun_r0}\\n')\n",
    "#print(f'y_sun_r0= \\n{y_sun_r0}\\n')"
   ]
  },
  {
   "cell_type": "code",
   "execution_count": null,
   "id": "86c04d28",
   "metadata": {},
   "outputs": [],
   "source": []
  },
  {
   "cell_type": "code",
   "execution_count": null,
   "id": "49d4e42e",
   "metadata": {},
   "outputs": [],
   "source": []
  },
  {
   "cell_type": "code",
   "execution_count": null,
   "id": "a7766549",
   "metadata": {},
   "outputs": [],
   "source": []
  },
  {
   "cell_type": "code",
   "execution_count": null,
   "id": "0b4fe99c",
   "metadata": {},
   "outputs": [],
   "source": []
  },
  {
   "cell_type": "code",
   "execution_count": null,
   "id": "04ffca49",
   "metadata": {},
   "outputs": [],
   "source": [
    "# Set up the scatter plot\n",
    "fig, ax = plt.subplots(1, 1, figsize=(10,10))\n",
    "ax.set_xlabel('X')\n",
    "ax.set_ylabel('Y')\n",
    "ax.set_title('Circle')"
   ]
  },
  {
   "cell_type": "code",
   "execution_count": null,
   "id": "555f6650",
   "metadata": {},
   "outputs": [],
   "source": []
  },
  {
   "cell_type": "code",
   "execution_count": 69,
   "id": "3b44cbb9",
   "metadata": {},
   "outputs": [
    {
     "data": {
      "image/png": "[encoded data removed]",
      "text/plain": [
       "<Figure size 1000x1000 with 1 Axes>"
      ]
     },
     "metadata": {},
     "output_type": "display_data"
    }
   ],
   "source": [
    "# positions of the midpoints\n",
    "\n",
    "x_pos_sun = 0\n",
    "y_pos_sun = 0\n",
    "x_pos_erde = 0.2\n",
    "y_pos_erde = 0\n",
    "\n",
    "    \n",
    "\n",
    "# Plot the points\n",
    "ax.scatter(x_sun, y_sun, c='r', s=2)\n",
    "    \n",
    "    \n",
    "    \n",
    "points_erde = []\n",
    "for i in range(n):\n",
    "    angle = 2 * np.pi * i / n\n",
    "    x = r * np.cos(angle) + x_pos_erde\n",
    "    y = r * np.sin(angle) + y_pos_erde\n",
    "    points_erde.append((x, y))\n",
    "\n",
    "\n",
    "    \n",
    "# Unpack the points into separate lists of x and y coordinates\n",
    "x_erde, y_erde = zip(*points_erde)\n",
    " # Plot the points\n",
    "ax.scatter(x_erde, y_erde, c='b', s=2)\n",
    "\n",
    "\n",
    "\n",
    "# Plot the point\n",
    "\n",
    "ax.scatter(x=x_pos_sun, y=y_pos_sun, c='r', s=20)\n",
    "ax.scatter(x=x_pos_erde, y=y_pos_erde, c='b', s=20)\n",
    "\n",
    "# Show the plot\n",
    "plt.show()\n"
   ]
  },
  {
   "cell_type": "code",
   "execution_count": null,
   "id": "f6ffaa9e",
   "metadata": {},
   "outputs": [],
   "source": []
  },
  {
   "cell_type": "code",
   "execution_count": null,
   "id": "93667ef9",
   "metadata": {},
   "outputs": [],
   "source": [
    "\n",
    "\n",
    "\n",
    "\n"
   ]
  },
  {
   "cell_type": "code",
   "execution_count": null,
   "id": "5b0ded5e",
   "metadata": {},
   "outputs": [],
   "source": []
  },
  {
   "cell_type": "code",
   "execution_count": null,
   "id": "d41b25fa",
   "metadata": {},
   "outputs": [],
   "source": []
  },
  {
   "cell_type": "code",
   "execution_count": null,
   "id": "58ea2449",
   "metadata": {},
   "outputs": [],
   "source": []
  }
 ],
 "metadata": {
  "kernelspec": {
   "display_name": "Python 3 (ipykernel)",
   "language": "python",
   "name": "python3"
  },
  "language_info": {
   "codemirror_mode": {
    "name": "ipython",
    "version": 3
   },
   "file_extension": ".py",
   "mimetype": "text/x-python",
   "name": "python",
   "nbconvert_exporter": "python",
   "pygments_lexer": "ipython3",
   "version": "3.9.13"
  }
 },
 "nbformat": 4,
 "nbformat_minor": 5
}

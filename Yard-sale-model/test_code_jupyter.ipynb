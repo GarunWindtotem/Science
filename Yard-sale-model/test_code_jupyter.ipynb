{
 "cells": [
  {
   "cell_type": "code",
   "execution_count": 167,
   "id": "59f78777",
   "metadata": {},
   "outputs": [],
   "source": [
    "import pandas as pd\n",
    "import random\n",
    "import numpy as np\n"
   ]
  },
  {
   "cell_type": "code",
   "execution_count": 168,
   "id": "227afe0f",
   "metadata": {},
   "outputs": [
    {
     "name": "stdout",
     "output_type": "stream",
     "text": [
      "2022-12-26 01:34:41.710973\n"
     ]
    }
   ],
   "source": [
    "import datetime\n",
    "\n",
    "current_time = datetime.datetime.now()\n",
    "print(current_time)"
   ]
  },
  {
   "cell_type": "code",
   "execution_count": 169,
   "id": "1358a8a1",
   "metadata": {},
   "outputs": [
    {
     "name": "stdout",
     "output_type": "stream",
     "text": [
      "1672009609.4492586\n",
      "2022-12-26 01:34:41.727646\n",
      "2022-12-26\n"
     ]
    }
   ],
   "source": [
    "# concept of timestamp from epoch (1970 year) and formatting as date\n",
    "\n",
    "import time\n",
    "import datetime as dt\n",
    "\n",
    "# timestamp\n",
    "ts1 = time.time() # timestamp in seconds \n",
    "date = dt.datetime.fromtimestamp(ts1) # date in YYYY-MM-DD hh:mm:ss.ssssss\n",
    "date_formatted = date.strftime(\"%Y-%m-%d\") # format the date\n",
    "\n",
    "print(ts)\n",
    "print(date)\n",
    "print(date_formatted)"
   ]
  },
  {
   "cell_type": "code",
   "execution_count": 170,
   "id": "a18b0f79",
   "metadata": {},
   "outputs": [
    {
     "name": "stdout",
     "output_type": "stream",
     "text": [
      "summe= 49972285\n",
      "len_list_random= 1000000\n",
      "mean_list_random= 49.972285\n",
      "time_performance= 0.9539699554443359 s\n"
     ]
    }
   ],
   "source": [
    "ts1 = time.time() # timestamp in seconds \n",
    "\n",
    "#big_list = []\n",
    "#for i in range(1,11):\n",
    "\n",
    "list_random = []\n",
    "\n",
    "# create a list of random numbers\n",
    "for item in range(1,1_000_001):\n",
    "    random_number = random.randint(0, 100)\n",
    "    # print(random_number)\n",
    "    list_random.append(random_number)\n",
    "\n",
    "# print(list_random)\n",
    "\n",
    "# calculate the mean of the list\n",
    "summe = 0\n",
    "for item in list_random:\n",
    "    summe = summe + item\n",
    "print(f'summe= {summe}')\n",
    "print(f'len_list_random= {len(list_random)}')          \n",
    "mean_list_random = summe / len(list_random)\n",
    "print(f'mean_list_random= {mean_list_random}')\n",
    "\n",
    "# big_list.append(mean_list_random)\n",
    "\n",
    "ts2 = time.time() # timestamp in seconds \n",
    "\n",
    "time_performance = ts2 - ts1\n",
    "print(f'time_performance= {time_performance} s')\n",
    "\n",
    "#print(big_list)"
   ]
  },
  {
   "cell_type": "code",
   "execution_count": null,
   "id": "6ca2864b",
   "metadata": {},
   "outputs": [],
   "source": []
  },
  {
   "cell_type": "code",
   "execution_count": 171,
   "id": "a0ba5bfd",
   "metadata": {},
   "outputs": [
    {
     "name": "stdout",
     "output_type": "stream",
     "text": [
      "time_performance= 0.7541778087615967 s\n"
     ]
    }
   ],
   "source": [
    "# create a list of 10 million random numbers (vanilla python)\n",
    "ts1 = time.time()\n",
    "list_random = []\n",
    "# create a list of random numbers\n",
    "for item in range(1,1_000_001):\n",
    "    random_number = random.randint(0, 100)\n",
    "    # print(random_number)\n",
    "    list_random.append(random_number)\n",
    "\n",
    "ts2 = time.time()\n",
    "time_performance12 = ts2 - ts1\n",
    "print(f'time_performance= {time_performance12} s')"
   ]
  },
  {
   "cell_type": "code",
   "execution_count": 172,
   "id": "57b5bc35",
   "metadata": {},
   "outputs": [
    {
     "name": "stdout",
     "output_type": "stream",
     "text": [
      "time_performance= 0.0 s\n"
     ]
    }
   ],
   "source": [
    "# create a array of 10 million random numbers (numpy)\n",
    "ts3 = time.time()\n",
    "random_ints = np.random.randint(1, 101, size=1_000_000)\n",
    "ts4 = time.time()\n",
    "time_performance34 = ts4 - ts3\n",
    "print(f'time_performance= {time_performance34} s')"
   ]
  },
  {
   "cell_type": "code",
   "execution_count": 173,
   "id": "dc074c0d",
   "metadata": {},
   "outputs": [
    {
     "name": "stdout",
     "output_type": "stream",
     "text": [
      "3\n",
      "5\n"
     ]
    }
   ],
   "source": [
    "def add_2_numbers(a, b):\n",
    "    print(a)\n",
    "    print(b)\n",
    "    \n",
    "add_2_numbers(3, 5)"
   ]
  },
  {
   "cell_type": "code",
   "execution_count": 174,
   "id": "9990929c",
   "metadata": {},
   "outputs": [
    {
     "name": "stdout",
     "output_type": "stream",
     "text": [
      "Einsatz A= 1000\n",
      "Einsatz B= 1000\n",
      "Spieleinsatz= 200.0\n",
      "player B wins\n",
      "Kontostand A nach Spiel= 800.0\n",
      "Kontostand B nach Spiel= 1200.0\n"
     ]
    }
   ],
   "source": [
    "def play_a_round(A, B):\n",
    "    # berechne den Einsatz für Spieler A und B\n",
    "    Einsatz_A = A * 0.2\n",
    "    print(f'Einsatz A= {A}')\n",
    "    Einsatz_B = B * 0.2\n",
    "    print(f'Einsatz B= {B}')\n",
    "    # bestimme den Spieleinsatz (der Spieler mit dem geringeren Einsatz bestimmt ihn)\n",
    "    if Einsatz_A <= Einsatz_B:\n",
    "          Spieleinsatz = Einsatz_A\n",
    "    else:\n",
    "          Spieleinsatz = Einsatz_B\n",
    "    print(f'Spieleinsatz= {Spieleinsatz}')\n",
    "    # spiele eine runde\n",
    "    # random number 0 or 1 (0: player A wins, 1: player B wins)\n",
    "    head_or_tail = int(np.random.randint(0, 2, size=1))\n",
    "    if head_or_tail == 1:\n",
    "          A = A - Spieleinsatz\n",
    "          B = B + Spieleinsatz\n",
    "          print('player B wins')\n",
    "    else:\n",
    "          A = A + Spieleinsatz\n",
    "          B = B - Spieleinsatz\n",
    "          print('player A wins')\n",
    "    return A, B\n",
    "\n",
    "# Kontostände\n",
    "A = 1_000\n",
    "B = 1_000\n",
    "          \n",
    "# call function\n",
    "A, B = play_a_round(A, B)\n",
    "print(f'Kontostand A nach Spiel= {A}')\n",
    "print(f'Kontostand B nach Spiel= {B}')"
   ]
  },
  {
   "cell_type": "code",
   "execution_count": 175,
   "id": "5e4d3ce8",
   "metadata": {},
   "outputs": [
    {
     "name": "stdout",
     "output_type": "stream",
     "text": [
      "Einsatz A= 1000\n",
      "Einsatz B= 1000\n",
      "Spieleinsatz= 200.0\n",
      "player A wins\n"
     ]
    },
    {
     "data": {
      "text/plain": [
       "(1200.0, 800.0)"
      ]
     },
     "execution_count": 175,
     "metadata": {},
     "output_type": "execute_result"
    }
   ],
   "source": [
    "list_a = []\n",
    "A = 1_000\n",
    "B = 1_000\n",
    "play_a_round(A, B)"
   ]
  },
  {
   "cell_type": "code",
   "execution_count": 176,
   "id": "8a560248",
   "metadata": {},
   "outputs": [
    {
     "name": "stdout",
     "output_type": "stream",
     "text": [
      "1\n",
      "2\n",
      "3\n",
      "4\n",
      "5\n",
      "6\n",
      "7\n"
     ]
    }
   ],
   "source": [
    "def get_values():\n",
    "    return 1, 2, 3, 4, 5, 6,7 \n",
    "\n",
    "# value_a, value_b, value_c, value_d, value_e, value_f, value_g  = get_values()\n",
    "values = get_values()\n",
    "\n",
    "value_a = values[0]\n",
    "value_b = values[1]\n",
    "value_c = values[2]\n",
    "value_d = values[3]\n",
    "value_e = values[4]\n",
    "value_f = values[5]\n",
    "value_g = values[6]\n",
    "\n",
    "print(value_a)\n",
    "print(value_b)\n",
    "print(value_c)\n",
    "print(value_d)\n",
    "print(value_e)\n",
    "print(value_f)\n",
    "print(value_g)"
   ]
  },
  {
   "cell_type": "code",
   "execution_count": 197,
   "id": "a1021f0f",
   "metadata": {},
   "outputs": [
    {
     "name": "stdout",
     "output_type": "stream",
     "text": [
      "text123\n",
      "3\n",
      "7\n"
     ]
    }
   ],
   "source": [
    "def get_values():\n",
    "    a = 'text123'\n",
    "    b = 3\n",
    "    c = 7\n",
    "    return a, b, c \n",
    "\n",
    "values = get_values()\n",
    "a = values[0]\n",
    "b = values[1]\n",
    "c = values[2]\n",
    "\n",
    "print(a)\n",
    "print(b)\n",
    "print(c)"
   ]
  },
  {
   "cell_type": "code",
   "execution_count": 200,
   "id": "e9787bac",
   "metadata": {},
   "outputs": [
    {
     "name": "stdout",
     "output_type": "stream",
     "text": [
      "text123\n",
      "3\n",
      "7\n"
     ]
    }
   ],
   "source": [
    "def get_values():\n",
    "    a = 'text123'\n",
    "    b = 3\n",
    "    c = 7\n",
    "    return a, b, c \n",
    "\n",
    "values = get_values()\n",
    "\n",
    "# Unpack the values into a tuple\n",
    "t = (*values,)\n",
    "# Assign the values to the variables\n",
    "a, b, c = t\n",
    "\n",
    "print(a)\n",
    "print(b)\n",
    "print(c)"
   ]
  },
  {
   "cell_type": "code",
   "execution_count": 204,
   "id": "00b06943",
   "metadata": {},
   "outputs": [
    {
     "name": "stdout",
     "output_type": "stream",
     "text": [
      "10\n",
      "3\n"
     ]
    }
   ],
   "source": [
    "def some_function(a, b):\n",
    "    if a > 5:\n",
    "        a = 10\n",
    "    return a, b\n",
    "\n",
    "values = some_function(7, 3)\n",
    "a = values[0]\n",
    "b = values[1]\n",
    "\n",
    "print(a)\n",
    "print(b)"
   ]
  },
  {
   "cell_type": "code",
   "execution_count": 203,
   "id": "47584f59",
   "metadata": {},
   "outputs": [
    {
     "name": "stdout",
     "output_type": "stream",
     "text": [
      "text123\n",
      "3\n",
      "7\n"
     ]
    }
   ],
   "source": [
    "def get_values1():\n",
    "    a = 'text123'\n",
    "    b = 3\n",
    "    c = 7\n",
    "    return a, b, c \n",
    "\n",
    "values = get_values1()\n",
    "\n",
    "# Unpack the values into a list\n",
    "t = [*values]\n",
    "# Assign the values to the variables\n",
    "a = t[0]\n",
    "b = t[1]\n",
    "c = t[2]\n",
    "\n",
    "print(a)\n",
    "print(b)\n",
    "print(c)"
   ]
  },
  {
   "cell_type": "code",
   "execution_count": 188,
   "id": "48f8b97b",
   "metadata": {},
   "outputs": [
    {
     "name": "stdout",
     "output_type": "stream",
     "text": [
      "{'value_0': 'text', 'value_1': 2, 'value_2': 3, 'value_3': 4, 'value_4': 5, 'value_5': 6, 'value_6': 7}\n",
      "B\n",
      "2\n",
      "3\n",
      "4\n",
      "5\n",
      "6\n",
      "7\n",
      "B\n",
      "{'value_0': 'text', 'value_1': 2, 'value_2': 3, 'value_3': 4, 'value_4': 5, 'value_5': 6, 'value_6': 7}\n",
      "text\n"
     ]
    }
   ],
   "source": [
    "def get_values():\n",
    "    return 'text', b, c, 4, 5, 6,7 \n",
    "\n",
    "# value_a, value_b, value_c, value_d, value_e, value_f, value_g  = get_values()\n",
    "values = get_values()\n",
    "\n",
    "value_dict={}\n",
    "\n",
    "for i, value in enumerate(values):\n",
    "    value_dict[f'value_{i}'] = value\n",
    "print(value_dict)\n",
    "\n",
    "print(value_0)\n",
    "print(value_1)\n",
    "print(value_2)\n",
    "print(value_3)\n",
    "print(value_4)\n",
    "print(value_5)\n",
    "print(value_6)\n",
    "\n",
    "print(value_0)\n",
    "print(value_dict)\n",
    "print(value_dict['value_0'])"
   ]
  },
  {
   "cell_type": "code",
   "execution_count": null,
   "id": "d31b3259",
   "metadata": {},
   "outputs": [],
   "source": []
  },
  {
   "cell_type": "code",
   "execution_count": null,
   "id": "24445c33",
   "metadata": {},
   "outputs": [],
   "source": []
  },
  {
   "cell_type": "code",
   "execution_count": null,
   "id": "6dc21482",
   "metadata": {},
   "outputs": [],
   "source": []
  },
  {
   "cell_type": "code",
   "execution_count": null,
   "id": "94f746a3",
   "metadata": {},
   "outputs": [],
   "source": []
  },
  {
   "cell_type": "code",
   "execution_count": null,
   "id": "ca49509c",
   "metadata": {},
   "outputs": [],
   "source": []
  },
  {
   "cell_type": "code",
   "execution_count": null,
   "id": "715a0806",
   "metadata": {},
   "outputs": [],
   "source": []
  }
 ],
 "metadata": {
  "kernelspec": {
   "display_name": "Python 3 (ipykernel)",
   "language": "python",
   "name": "python3"
  },
  "language_info": {
   "codemirror_mode": {
    "name": "ipython",
    "version": 3
   },
   "file_extension": ".py",
   "mimetype": "text/x-python",
   "name": "python",
   "nbconvert_exporter": "python",
   "pygments_lexer": "ipython3",
   "version": "3.9.13"
  }
 },
 "nbformat": 4,
 "nbformat_minor": 5
}

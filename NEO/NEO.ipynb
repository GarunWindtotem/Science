{
 "cells": [
  {
   "cell_type": "markdown",
   "metadata": {},
   "source": [
    "# Near earth objects"
   ]
  },
  {
   "cell_type": "markdown",
   "metadata": {},
   "source": [
    "#### https://cneos.jpl.nasa.gov/ca/"
   ]
  },
  {
   "cell_type": "code",
   "execution_count": 948,
   "metadata": {},
   "outputs": [],
   "source": [
    "from matplotlib import pyplot as plt\n",
    "import pandas as pd\n",
    "import numpy as np"
   ]
  },
  {
   "cell_type": "markdown",
   "metadata": {},
   "source": [
    "### data import, cleaning"
   ]
  },
  {
   "cell_type": "code",
   "execution_count": 949,
   "metadata": {},
   "outputs": [],
   "source": [
    "df = pd.read_csv(\"D:\\\\Github\\\\Science\\\\NEO\\\\cneos_closeapproach_data.csv\", sep=\",\")\n",
    "df = df.drop(columns=['CA Distance Minimum (LD | au)', 'V relative (km/s)', 'V infinity (km/s)', 'H (mag)', 'Unnamed: 8'])"
   ]
  },
  {
   "cell_type": "code",
   "execution_count": 950,
   "metadata": {},
   "outputs": [
    {
     "data": {
      "text/html": [
       "<div>\n",
       "<style scoped>\n",
       "    .dataframe tbody tr th:only-of-type {\n",
       "        vertical-align: middle;\n",
       "    }\n",
       "\n",
       "    .dataframe tbody tr th {\n",
       "        vertical-align: top;\n",
       "    }\n",
       "\n",
       "    .dataframe thead th {\n",
       "        text-align: right;\n",
       "    }\n",
       "</style>\n",
       "<table border=\"1\" class=\"dataframe\">\n",
       "  <thead>\n",
       "    <tr style=\"text-align: right;\">\n",
       "      <th></th>\n",
       "      <th>Object</th>\n",
       "      <th>Close-Approach (CA) Date</th>\n",
       "      <th>CA Distance Nominal (LD | au)</th>\n",
       "      <th>Diameter</th>\n",
       "    </tr>\n",
       "  </thead>\n",
       "  <tbody>\n",
       "    <tr>\n",
       "      <th>0</th>\n",
       "      <td>99942 Apophis (2004 MN4)</td>\n",
       "      <td>2029-Apr-13 21:46 ± &lt; 00:01</td>\n",
       "      <td>0.10 | 0.00025</td>\n",
       "      <td>0.34±0.04 km</td>\n",
       "    </tr>\n",
       "    <tr>\n",
       "      <th>1</th>\n",
       "      <td>(2010 RF12)</td>\n",
       "      <td>2095-Sep-06 00:06 ±    00:44</td>\n",
       "      <td>0.10 | 0.00026</td>\n",
       "      <td>5.6 m -   12 m</td>\n",
       "    </tr>\n",
       "  </tbody>\n",
       "</table>\n",
       "</div>"
      ],
      "text/plain": [
       "                     Object      Close-Approach (CA) Date  \\\n",
       "0  99942 Apophis (2004 MN4)   2029-Apr-13 21:46 ± < 00:01   \n",
       "1               (2010 RF12)  2095-Sep-06 00:06 ±    00:44   \n",
       "\n",
       "  CA Distance Nominal (LD | au)        Diameter  \n",
       "0                0.10 | 0.00025    0.34±0.04 km  \n",
       "1                0.10 | 0.00026  5.6 m -   12 m  "
      ]
     },
     "execution_count": 950,
     "metadata": {},
     "output_type": "execute_result"
    }
   ],
   "source": [
    "df.head(2)"
   ]
  },
  {
   "cell_type": "code",
   "execution_count": 951,
   "metadata": {},
   "outputs": [
    {
     "data": {
      "text/plain": [
       "Object                           object\n",
       "Close-Approach (CA) Date         object\n",
       "CA Distance Nominal (LD | au)    object\n",
       "Diameter                         object\n",
       "dtype: object"
      ]
     },
     "execution_count": 951,
     "metadata": {},
     "output_type": "execute_result"
    }
   ],
   "source": [
    "df.dtypes"
   ]
  },
  {
   "cell_type": "code",
   "execution_count": 952,
   "metadata": {},
   "outputs": [],
   "source": [
    "df[\"LD\"] = df[\"CA Distance Nominal (LD | au)\"].str.split(' ', expand = True)[0]"
   ]
  },
  {
   "cell_type": "code",
   "execution_count": 953,
   "metadata": {},
   "outputs": [
    {
     "data": {
      "text/html": [
       "<div>\n",
       "<style scoped>\n",
       "    .dataframe tbody tr th:only-of-type {\n",
       "        vertical-align: middle;\n",
       "    }\n",
       "\n",
       "    .dataframe tbody tr th {\n",
       "        vertical-align: top;\n",
       "    }\n",
       "\n",
       "    .dataframe thead th {\n",
       "        text-align: right;\n",
       "    }\n",
       "</style>\n",
       "<table border=\"1\" class=\"dataframe\">\n",
       "  <thead>\n",
       "    <tr style=\"text-align: right;\">\n",
       "      <th></th>\n",
       "      <th>Object</th>\n",
       "      <th>Close-Approach (CA) Date</th>\n",
       "      <th>CA Distance Nominal (LD | au)</th>\n",
       "      <th>Diameter</th>\n",
       "      <th>LD</th>\n",
       "    </tr>\n",
       "  </thead>\n",
       "  <tbody>\n",
       "    <tr>\n",
       "      <th>0</th>\n",
       "      <td>99942 Apophis (2004 MN4)</td>\n",
       "      <td>2029-Apr-13 21:46 ± &lt; 00:01</td>\n",
       "      <td>0.10 | 0.00025</td>\n",
       "      <td>0.34±0.04 km</td>\n",
       "      <td>0.10</td>\n",
       "    </tr>\n",
       "    <tr>\n",
       "      <th>1</th>\n",
       "      <td>(2010 RF12)</td>\n",
       "      <td>2095-Sep-06 00:06 ±    00:44</td>\n",
       "      <td>0.10 | 0.00026</td>\n",
       "      <td>5.6 m -   12 m</td>\n",
       "      <td>0.10</td>\n",
       "    </tr>\n",
       "  </tbody>\n",
       "</table>\n",
       "</div>"
      ],
      "text/plain": [
       "                     Object      Close-Approach (CA) Date  \\\n",
       "0  99942 Apophis (2004 MN4)   2029-Apr-13 21:46 ± < 00:01   \n",
       "1               (2010 RF12)  2095-Sep-06 00:06 ±    00:44   \n",
       "\n",
       "  CA Distance Nominal (LD | au)        Diameter    LD  \n",
       "0                0.10 | 0.00025    0.34±0.04 km  0.10  \n",
       "1                0.10 | 0.00026  5.6 m -   12 m  0.10  "
      ]
     },
     "execution_count": 953,
     "metadata": {},
     "output_type": "execute_result"
    }
   ],
   "source": [
    "df.head(2)"
   ]
  },
  {
   "cell_type": "code",
   "execution_count": 954,
   "metadata": {},
   "outputs": [],
   "source": [
    "df[\"LD\"] = pd.to_numeric(df[\"LD\"], errors='coerce')"
   ]
  },
  {
   "cell_type": "code",
   "execution_count": 955,
   "metadata": {},
   "outputs": [
    {
     "data": {
      "text/plain": [
       "Object                            object\n",
       "Close-Approach (CA) Date          object\n",
       "CA Distance Nominal (LD | au)     object\n",
       "Diameter                          object\n",
       "LD                               float64\n",
       "dtype: object"
      ]
     },
     "execution_count": 955,
     "metadata": {},
     "output_type": "execute_result"
    }
   ],
   "source": [
    "df.dtypes"
   ]
  },
  {
   "cell_type": "code",
   "execution_count": 956,
   "metadata": {},
   "outputs": [
    {
     "data": {
      "text/html": [
       "<div>\n",
       "<style scoped>\n",
       "    .dataframe tbody tr th:only-of-type {\n",
       "        vertical-align: middle;\n",
       "    }\n",
       "\n",
       "    .dataframe tbody tr th {\n",
       "        vertical-align: top;\n",
       "    }\n",
       "\n",
       "    .dataframe thead th {\n",
       "        text-align: right;\n",
       "    }\n",
       "</style>\n",
       "<table border=\"1\" class=\"dataframe\">\n",
       "  <thead>\n",
       "    <tr style=\"text-align: right;\">\n",
       "      <th></th>\n",
       "      <th>Object</th>\n",
       "      <th>Close-Approach (CA) Date</th>\n",
       "      <th>CA Distance Nominal (LD | au)</th>\n",
       "      <th>Diameter</th>\n",
       "      <th>LD</th>\n",
       "      <th>x_axis</th>\n",
       "    </tr>\n",
       "  </thead>\n",
       "  <tbody>\n",
       "    <tr>\n",
       "      <th>1</th>\n",
       "      <td>99942 Apophis (2004 MN4)</td>\n",
       "      <td>2029-Apr-13 21:46 ± &lt; 00:01</td>\n",
       "      <td>0.10 | 0.00025</td>\n",
       "      <td>0.34±0.04 km</td>\n",
       "      <td>0.1</td>\n",
       "      <td>1</td>\n",
       "    </tr>\n",
       "    <tr>\n",
       "      <th>2</th>\n",
       "      <td>(2010 RF12)</td>\n",
       "      <td>2095-Sep-06 00:06 ±    00:44</td>\n",
       "      <td>0.10 | 0.00026</td>\n",
       "      <td>5.6 m -   12 m</td>\n",
       "      <td>0.1</td>\n",
       "      <td>2</td>\n",
       "    </tr>\n",
       "  </tbody>\n",
       "</table>\n",
       "</div>"
      ],
      "text/plain": [
       "                     Object      Close-Approach (CA) Date  \\\n",
       "1  99942 Apophis (2004 MN4)   2029-Apr-13 21:46 ± < 00:01   \n",
       "2               (2010 RF12)  2095-Sep-06 00:06 ±    00:44   \n",
       "\n",
       "  CA Distance Nominal (LD | au)        Diameter   LD  x_axis  \n",
       "1                0.10 | 0.00025    0.34±0.04 km  0.1       1  \n",
       "2                0.10 | 0.00026  5.6 m -   12 m  0.1       2  "
      ]
     },
     "execution_count": 956,
     "metadata": {},
     "output_type": "execute_result"
    }
   ],
   "source": [
    "df.index = np.arange(1, len(df) + 1 )\n",
    "df[\"x_axis\"] = df.index\n",
    "df.head(2)"
   ]
  },
  {
   "cell_type": "code",
   "execution_count": null,
   "metadata": {},
   "outputs": [],
   "source": []
  },
  {
   "cell_type": "markdown",
   "metadata": {},
   "source": [
    "### calculation"
   ]
  },
  {
   "cell_type": "code",
   "execution_count": null,
   "metadata": {},
   "outputs": [],
   "source": []
  },
  {
   "cell_type": "code",
   "execution_count": 957,
   "metadata": {},
   "outputs": [],
   "source": [
    "df[\"distance_km\"] = df[\"LD\"]*394_399"
   ]
  },
  {
   "cell_type": "code",
   "execution_count": 958,
   "metadata": {},
   "outputs": [],
   "source": [
    "df[\"zero\"]=0\n",
    "df[\"earth\"] = 6_371\n",
    "df[\"ISS\"] = 6_371+408\n",
    "df[\"geostationary\"] = 35_786"
   ]
  },
  {
   "cell_type": "code",
   "execution_count": 959,
   "metadata": {},
   "outputs": [],
   "source": [
    "df = df.loc[df[\"LD\"] < 10]"
   ]
  },
  {
   "cell_type": "code",
   "execution_count": 960,
   "metadata": {},
   "outputs": [
    {
     "data": {
      "text/html": [
       "<div>\n",
       "<style scoped>\n",
       "    .dataframe tbody tr th:only-of-type {\n",
       "        vertical-align: middle;\n",
       "    }\n",
       "\n",
       "    .dataframe tbody tr th {\n",
       "        vertical-align: top;\n",
       "    }\n",
       "\n",
       "    .dataframe thead th {\n",
       "        text-align: right;\n",
       "    }\n",
       "</style>\n",
       "<table border=\"1\" class=\"dataframe\">\n",
       "  <thead>\n",
       "    <tr style=\"text-align: right;\">\n",
       "      <th></th>\n",
       "      <th>Object</th>\n",
       "      <th>Close-Approach (CA) Date</th>\n",
       "      <th>CA Distance Nominal (LD | au)</th>\n",
       "      <th>Diameter</th>\n",
       "      <th>LD</th>\n",
       "      <th>x_axis</th>\n",
       "      <th>distance_km</th>\n",
       "      <th>zero</th>\n",
       "      <th>earth</th>\n",
       "      <th>ISS</th>\n",
       "      <th>geostationary</th>\n",
       "    </tr>\n",
       "  </thead>\n",
       "  <tbody>\n",
       "    <tr>\n",
       "      <th>1</th>\n",
       "      <td>99942 Apophis (2004 MN4)</td>\n",
       "      <td>2029-Apr-13 21:46 ± &lt; 00:01</td>\n",
       "      <td>0.10 | 0.00025</td>\n",
       "      <td>0.34±0.04 km</td>\n",
       "      <td>0.1</td>\n",
       "      <td>1</td>\n",
       "      <td>39439.9</td>\n",
       "      <td>0</td>\n",
       "      <td>6371</td>\n",
       "      <td>6779</td>\n",
       "      <td>35786</td>\n",
       "    </tr>\n",
       "    <tr>\n",
       "      <th>2</th>\n",
       "      <td>(2010 RF12)</td>\n",
       "      <td>2095-Sep-06 00:06 ±    00:44</td>\n",
       "      <td>0.10 | 0.00026</td>\n",
       "      <td>5.6 m -   12 m</td>\n",
       "      <td>0.1</td>\n",
       "      <td>2</td>\n",
       "      <td>39439.9</td>\n",
       "      <td>0</td>\n",
       "      <td>6371</td>\n",
       "      <td>6779</td>\n",
       "      <td>35786</td>\n",
       "    </tr>\n",
       "  </tbody>\n",
       "</table>\n",
       "</div>"
      ],
      "text/plain": [
       "                     Object      Close-Approach (CA) Date  \\\n",
       "1  99942 Apophis (2004 MN4)   2029-Apr-13 21:46 ± < 00:01   \n",
       "2               (2010 RF12)  2095-Sep-06 00:06 ±    00:44   \n",
       "\n",
       "  CA Distance Nominal (LD | au)        Diameter   LD  x_axis  distance_km  \\\n",
       "1                0.10 | 0.00025    0.34±0.04 km  0.1       1      39439.9   \n",
       "2                0.10 | 0.00026  5.6 m -   12 m  0.1       2      39439.9   \n",
       "\n",
       "   zero  earth   ISS  geostationary  \n",
       "1     0   6371  6779          35786  \n",
       "2     0   6371  6779          35786  "
      ]
     },
     "execution_count": 960,
     "metadata": {},
     "output_type": "execute_result"
    }
   ],
   "source": [
    "df.head(2)"
   ]
  },
  {
   "cell_type": "markdown",
   "metadata": {},
   "source": [
    "### size"
   ]
  },
  {
   "cell_type": "code",
   "execution_count": null,
   "metadata": {},
   "outputs": [],
   "source": []
  },
  {
   "cell_type": "code",
   "execution_count": 961,
   "metadata": {},
   "outputs": [
    {
     "data": {
      "text/html": [
       "<div>\n",
       "<style scoped>\n",
       "    .dataframe tbody tr th:only-of-type {\n",
       "        vertical-align: middle;\n",
       "    }\n",
       "\n",
       "    .dataframe tbody tr th {\n",
       "        vertical-align: top;\n",
       "    }\n",
       "\n",
       "    .dataframe thead th {\n",
       "        text-align: right;\n",
       "    }\n",
       "</style>\n",
       "<table border=\"1\" class=\"dataframe\">\n",
       "  <thead>\n",
       "    <tr style=\"text-align: right;\">\n",
       "      <th></th>\n",
       "      <th>Object</th>\n",
       "      <th>Close-Approach (CA) Date</th>\n",
       "      <th>CA Distance Nominal (LD | au)</th>\n",
       "      <th>Diameter</th>\n",
       "      <th>LD</th>\n",
       "      <th>x_axis</th>\n",
       "      <th>distance_km</th>\n",
       "      <th>zero</th>\n",
       "      <th>earth</th>\n",
       "      <th>ISS</th>\n",
       "      <th>geostationary</th>\n",
       "      <th>size_unit</th>\n",
       "      <th>d1</th>\n",
       "      <th>size_factor</th>\n",
       "    </tr>\n",
       "  </thead>\n",
       "  <tbody>\n",
       "    <tr>\n",
       "      <th>1</th>\n",
       "      <td>99942 Apophis (2004 MN4)</td>\n",
       "      <td>2029-Apr-13 21:46 ± &lt; 00:01</td>\n",
       "      <td>0.10 | 0.00025</td>\n",
       "      <td>0.34±0.04 km</td>\n",
       "      <td>0.10</td>\n",
       "      <td>1</td>\n",
       "      <td>39439.90</td>\n",
       "      <td>0</td>\n",
       "      <td>6371</td>\n",
       "      <td>6779</td>\n",
       "      <td>35786</td>\n",
       "      <td>km</td>\n",
       "      <td>0.34</td>\n",
       "      <td>1000</td>\n",
       "    </tr>\n",
       "    <tr>\n",
       "      <th>2</th>\n",
       "      <td>(2010 RF12)</td>\n",
       "      <td>2095-Sep-06 00:06 ±    00:44</td>\n",
       "      <td>0.10 | 0.00026</td>\n",
       "      <td>5.6 m -   12 m</td>\n",
       "      <td>0.10</td>\n",
       "      <td>2</td>\n",
       "      <td>39439.90</td>\n",
       "      <td>0</td>\n",
       "      <td>6371</td>\n",
       "      <td>6779</td>\n",
       "      <td>35786</td>\n",
       "      <td>m</td>\n",
       "      <td>NaN</td>\n",
       "      <td>1</td>\n",
       "    </tr>\n",
       "    <tr>\n",
       "      <th>3</th>\n",
       "      <td>(2007 UW1)</td>\n",
       "      <td>2129-Oct-19 03:09 ±    01:30</td>\n",
       "      <td>0.22 | 0.00056</td>\n",
       "      <td>77 m -  170 m</td>\n",
       "      <td>0.22</td>\n",
       "      <td>3</td>\n",
       "      <td>86767.78</td>\n",
       "      <td>0</td>\n",
       "      <td>6371</td>\n",
       "      <td>6779</td>\n",
       "      <td>35786</td>\n",
       "      <td>m</td>\n",
       "      <td>NaN</td>\n",
       "      <td>1</td>\n",
       "    </tr>\n",
       "  </tbody>\n",
       "</table>\n",
       "</div>"
      ],
      "text/plain": [
       "                     Object      Close-Approach (CA) Date  \\\n",
       "1  99942 Apophis (2004 MN4)   2029-Apr-13 21:46 ± < 00:01   \n",
       "2               (2010 RF12)  2095-Sep-06 00:06 ±    00:44   \n",
       "3                (2007 UW1)  2129-Oct-19 03:09 ±    01:30   \n",
       "\n",
       "  CA Distance Nominal (LD | au)        Diameter    LD  x_axis  distance_km  \\\n",
       "1                0.10 | 0.00025    0.34±0.04 km  0.10       1     39439.90   \n",
       "2                0.10 | 0.00026  5.6 m -   12 m  0.10       2     39439.90   \n",
       "3                0.22 | 0.00056   77 m -  170 m  0.22       3     86767.78   \n",
       "\n",
       "   zero  earth   ISS  geostationary size_unit    d1  size_factor  \n",
       "1     0   6371  6779          35786        km  0.34         1000  \n",
       "2     0   6371  6779          35786         m   NaN            1  \n",
       "3     0   6371  6779          35786         m   NaN            1  "
      ]
     },
     "execution_count": 961,
     "metadata": {},
     "output_type": "execute_result"
    }
   ],
   "source": [
    "# km oder m auslesen\n",
    "df[\"size_unit\"] = df[\"Diameter\"].str[-2:]\n",
    "\n",
    "\n",
    "# Teile alle Durchmesser mit ±\n",
    "df[\"d1\"] = df[\"Diameter\"].str.split('±', expand = True)[0]\n",
    "df[\"d1\"] = pd.to_numeric(df[\"d1\"], errors='coerce')\n",
    "\n",
    "# definiere size factor = 1000, ausser bei \" m\" = 1\n",
    "df[\"size_factor\"] = 1_000\n",
    "df.loc[df[\"size_unit\"] == \" m\", \"size_factor\"] = 1\n",
    "df.head(3)"
   ]
  },
  {
   "cell_type": "code",
   "execution_count": 962,
   "metadata": {
    "scrolled": true
   },
   "outputs": [
    {
     "data": {
      "text/html": [
       "<div>\n",
       "<style scoped>\n",
       "    .dataframe tbody tr th:only-of-type {\n",
       "        vertical-align: middle;\n",
       "    }\n",
       "\n",
       "    .dataframe tbody tr th {\n",
       "        vertical-align: top;\n",
       "    }\n",
       "\n",
       "    .dataframe thead th {\n",
       "        text-align: right;\n",
       "    }\n",
       "</style>\n",
       "<table border=\"1\" class=\"dataframe\">\n",
       "  <thead>\n",
       "    <tr style=\"text-align: right;\">\n",
       "      <th></th>\n",
       "      <th>Object</th>\n",
       "      <th>Close-Approach (CA) Date</th>\n",
       "      <th>Diameter</th>\n",
       "      <th>LD</th>\n",
       "      <th>x_axis</th>\n",
       "      <th>distance_km</th>\n",
       "      <th>zero</th>\n",
       "      <th>earth</th>\n",
       "      <th>ISS</th>\n",
       "      <th>geostationary</th>\n",
       "      <th>diameter_mean</th>\n",
       "    </tr>\n",
       "  </thead>\n",
       "  <tbody>\n",
       "    <tr>\n",
       "      <th>1</th>\n",
       "      <td>99942 Apophis (2004 MN4)</td>\n",
       "      <td>2029-Apr-13 21:46 ± &lt; 00:01</td>\n",
       "      <td>0.34±0.04 km</td>\n",
       "      <td>0.10</td>\n",
       "      <td>1</td>\n",
       "      <td>39439.90</td>\n",
       "      <td>0</td>\n",
       "      <td>6371</td>\n",
       "      <td>6779</td>\n",
       "      <td>35786</td>\n",
       "      <td>340.0</td>\n",
       "    </tr>\n",
       "    <tr>\n",
       "      <th>2</th>\n",
       "      <td>(2010 RF12)</td>\n",
       "      <td>2095-Sep-06 00:06 ±    00:44</td>\n",
       "      <td>5.6 m -   12 m</td>\n",
       "      <td>0.10</td>\n",
       "      <td>2</td>\n",
       "      <td>39439.90</td>\n",
       "      <td>0</td>\n",
       "      <td>6371</td>\n",
       "      <td>6779</td>\n",
       "      <td>35786</td>\n",
       "      <td>8.8</td>\n",
       "    </tr>\n",
       "    <tr>\n",
       "      <th>3</th>\n",
       "      <td>(2007 UW1)</td>\n",
       "      <td>2129-Oct-19 03:09 ±    01:30</td>\n",
       "      <td>77 m -  170 m</td>\n",
       "      <td>0.22</td>\n",
       "      <td>3</td>\n",
       "      <td>86767.78</td>\n",
       "      <td>0</td>\n",
       "      <td>6371</td>\n",
       "      <td>6779</td>\n",
       "      <td>35786</td>\n",
       "      <td>123.5</td>\n",
       "    </tr>\n",
       "  </tbody>\n",
       "</table>\n",
       "</div>"
      ],
      "text/plain": [
       "                     Object      Close-Approach (CA) Date        Diameter  \\\n",
       "1  99942 Apophis (2004 MN4)   2029-Apr-13 21:46 ± < 00:01    0.34±0.04 km   \n",
       "2               (2010 RF12)  2095-Sep-06 00:06 ±    00:44  5.6 m -   12 m   \n",
       "3                (2007 UW1)  2129-Oct-19 03:09 ±    01:30   77 m -  170 m   \n",
       "\n",
       "     LD  x_axis  distance_km  zero  earth   ISS  geostationary  diameter_mean  \n",
       "1  0.10       1     39439.90     0   6371  6779          35786          340.0  \n",
       "2  0.10       2     39439.90     0   6371  6779          35786            8.8  \n",
       "3  0.22       3     86767.78     0   6371  6779          35786          123.5  "
      ]
     },
     "execution_count": 962,
     "metadata": {},
     "output_type": "execute_result"
    }
   ],
   "source": [
    "# mittlerer Durchmesser ermitteln\n",
    "\n",
    "df[\"d_von\"] = df[\"Diameter\"].str.split(' ', expand = True)[0]\n",
    "df[\"d_von\"] = pd.to_numeric(df[\"d_von\"], errors='coerce')\n",
    "\n",
    "df[\"d_bis\"] = df[\"Diameter\"].str.split('- ', expand = True)[1]\n",
    "df[\"d_bis\"] = df[\"d_bis\"].str.split(' m', expand = True)[0]\n",
    "df[\"d_bis\"] = pd.to_numeric(df[\"d_bis\"], errors='coerce')\n",
    "\n",
    "df[\"mittel1\"] = df[\"d1\"] * df[\"size_factor\"]\n",
    "df[\"mittel1\"] = df[\"mittel1\"].fillna(1)\n",
    "\n",
    "df[\"mittel2\"] = (df[\"d_von\"]+df[\"d_bis\"]) *(1/2) * df[\"size_factor\"]\n",
    "df[\"mittel2\"] = df[\"mittel2\"].fillna(1)\n",
    "\n",
    "df[\"diameter_mean\"] = df[\"mittel1\"] * df[\"mittel2\"]\n",
    "\n",
    "df = df.drop(columns=['d1', \n",
    "                      'd_von', \n",
    "                      'd_bis', \n",
    "                      'mittel1', \n",
    "                      'mittel2', \n",
    "                      'size_factor', \n",
    "                      'CA Distance Nominal (LD | au)', \n",
    "                      'size_unit'])\n",
    "\n",
    "df.head(3)"
   ]
  },
  {
   "cell_type": "code",
   "execution_count": 963,
   "metadata": {
    "scrolled": true
   },
   "outputs": [],
   "source": [
    "# Liste erstellen für die Größen"
   ]
  },
  {
   "cell_type": "code",
   "execution_count": 964,
   "metadata": {},
   "outputs": [
    {
     "data": {
      "text/plain": [
       "6250.0"
      ]
     },
     "execution_count": 964,
     "metadata": {},
     "output_type": "execute_result"
    }
   ],
   "source": [
    "max_größe = df[\"diameter_mean\"].max()\n",
    "max_größe"
   ]
  },
  {
   "cell_type": "code",
   "execution_count": 965,
   "metadata": {},
   "outputs": [
    {
     "data": {
      "text/html": [
       "<div>\n",
       "<style scoped>\n",
       "    .dataframe tbody tr th:only-of-type {\n",
       "        vertical-align: middle;\n",
       "    }\n",
       "\n",
       "    .dataframe tbody tr th {\n",
       "        vertical-align: top;\n",
       "    }\n",
       "\n",
       "    .dataframe thead th {\n",
       "        text-align: right;\n",
       "    }\n",
       "</style>\n",
       "<table border=\"1\" class=\"dataframe\">\n",
       "  <thead>\n",
       "    <tr style=\"text-align: right;\">\n",
       "      <th></th>\n",
       "      <th>Object</th>\n",
       "      <th>Close-Approach (CA) Date</th>\n",
       "      <th>Diameter</th>\n",
       "      <th>LD</th>\n",
       "      <th>x_axis</th>\n",
       "      <th>distance_km</th>\n",
       "      <th>zero</th>\n",
       "      <th>earth</th>\n",
       "      <th>ISS</th>\n",
       "      <th>geostationary</th>\n",
       "      <th>diameter_mean</th>\n",
       "      <th>marker_size</th>\n",
       "    </tr>\n",
       "  </thead>\n",
       "  <tbody>\n",
       "    <tr>\n",
       "      <th>1</th>\n",
       "      <td>99942 Apophis (2004 MN4)</td>\n",
       "      <td>2029-Apr-13 21:46 ± &lt; 00:01</td>\n",
       "      <td>0.34±0.04 km</td>\n",
       "      <td>0.10</td>\n",
       "      <td>1</td>\n",
       "      <td>39439.90</td>\n",
       "      <td>0</td>\n",
       "      <td>6371</td>\n",
       "      <td>6779</td>\n",
       "      <td>35786</td>\n",
       "      <td>340.0</td>\n",
       "      <td>16.3200</td>\n",
       "    </tr>\n",
       "    <tr>\n",
       "      <th>2</th>\n",
       "      <td>(2010 RF12)</td>\n",
       "      <td>2095-Sep-06 00:06 ±    00:44</td>\n",
       "      <td>5.6 m -   12 m</td>\n",
       "      <td>0.10</td>\n",
       "      <td>2</td>\n",
       "      <td>39439.90</td>\n",
       "      <td>0</td>\n",
       "      <td>6371</td>\n",
       "      <td>6779</td>\n",
       "      <td>35786</td>\n",
       "      <td>8.8</td>\n",
       "      <td>0.4224</td>\n",
       "    </tr>\n",
       "    <tr>\n",
       "      <th>3</th>\n",
       "      <td>(2007 UW1)</td>\n",
       "      <td>2129-Oct-19 03:09 ±    01:30</td>\n",
       "      <td>77 m -  170 m</td>\n",
       "      <td>0.22</td>\n",
       "      <td>3</td>\n",
       "      <td>86767.78</td>\n",
       "      <td>0</td>\n",
       "      <td>6371</td>\n",
       "      <td>6779</td>\n",
       "      <td>35786</td>\n",
       "      <td>123.5</td>\n",
       "      <td>5.9280</td>\n",
       "    </tr>\n",
       "    <tr>\n",
       "      <th>4</th>\n",
       "      <td>(2007 UD6)</td>\n",
       "      <td>2048-Oct-18 02:48 ± 2_09:26</td>\n",
       "      <td>5.8 m -   13 m</td>\n",
       "      <td>0.22</td>\n",
       "      <td>4</td>\n",
       "      <td>86767.78</td>\n",
       "      <td>0</td>\n",
       "      <td>6371</td>\n",
       "      <td>6779</td>\n",
       "      <td>35786</td>\n",
       "      <td>9.4</td>\n",
       "      <td>0.4512</td>\n",
       "    </tr>\n",
       "  </tbody>\n",
       "</table>\n",
       "</div>"
      ],
      "text/plain": [
       "                     Object      Close-Approach (CA) Date        Diameter  \\\n",
       "1  99942 Apophis (2004 MN4)   2029-Apr-13 21:46 ± < 00:01    0.34±0.04 km   \n",
       "2               (2010 RF12)  2095-Sep-06 00:06 ±    00:44  5.6 m -   12 m   \n",
       "3                (2007 UW1)  2129-Oct-19 03:09 ±    01:30   77 m -  170 m   \n",
       "4                (2007 UD6)   2048-Oct-18 02:48 ± 2_09:26  5.8 m -   13 m   \n",
       "\n",
       "     LD  x_axis  distance_km  zero  earth   ISS  geostationary  diameter_mean  \\\n",
       "1  0.10       1     39439.90     0   6371  6779          35786          340.0   \n",
       "2  0.10       2     39439.90     0   6371  6779          35786            8.8   \n",
       "3  0.22       3     86767.78     0   6371  6779          35786          123.5   \n",
       "4  0.22       4     86767.78     0   6371  6779          35786            9.4   \n",
       "\n",
       "   marker_size  \n",
       "1      16.3200  \n",
       "2       0.4224  \n",
       "3       5.9280  \n",
       "4       0.4512  "
      ]
     },
     "execution_count": 965,
     "metadata": {},
     "output_type": "execute_result"
    }
   ],
   "source": [
    "df[\"marker_size\"] = 300 * (df[\"diameter_mean\"] / max_größe)\n",
    "\n",
    "\n",
    "\n",
    "# definiere size factor = 1000, ausser bei \" m\" = 1\n",
    "# df[\"marker_size2\"] = 15\n",
    "# df.loc[df[\"marker_size\"] > 15, \"marker_size2\"] = 200 * (df[\"diameter_mean\"] / max_größe)\n",
    "\n",
    "\n",
    "\n",
    "df.head(4)"
   ]
  },
  {
   "cell_type": "code",
   "execution_count": null,
   "metadata": {},
   "outputs": [],
   "source": []
  },
  {
   "cell_type": "code",
   "execution_count": null,
   "metadata": {},
   "outputs": [],
   "source": []
  },
  {
   "cell_type": "markdown",
   "metadata": {},
   "source": [
    "### visualize"
   ]
  },
  {
   "cell_type": "code",
   "execution_count": 966,
   "metadata": {
    "scrolled": true
   },
   "outputs": [
    {
     "data": {
      "image/png": "[encoded data removed]",
      "text/plain": [
       "<Figure size 1152x648 with 1 Axes>"
      ]
     },
     "metadata": {},
     "output_type": "display_data"
    }
   ],
   "source": [
    "plt.style.use('seaborn')\n",
    "fig, ax = plt.subplots(figsize=(16, 9))\n",
    "# plt.plot(df[\"distance_km\"],color=\"blue\", alpha=0.7, marker=\".\", markersize=marker_size_list1,\n",
    "#          linestyle=\"\", label=\"Near earth object\")\n",
    "\n",
    "\n",
    "[ax.plot(row['x_axis'], row['distance_km'], '.', markersize=row['marker_size'], alpha=0.7, color = \"blue\", label = \"\") for idx, row in df.iterrows()]\n",
    "\n",
    "\n",
    "# plt.plot(df[\"zero\"],color=\"brown\", alpha=0.7, marker=\"\", markersize=10,\n",
    "#          linestyle=\"-\", label=\"\")\n",
    "\n",
    "# plt.plot(df[\"earth\"],color=\"brown\", alpha=0.7, marker=\"\", markersize=10,\n",
    "#          linestyle=\"-\", label=\"\")\n",
    "\n",
    "plt.fill_between(df.x_axis, df['earth'], df['zero'], color='blue', alpha=0.5,\n",
    "                 label=f'earth')\n",
    "\n",
    "\n",
    "plt.plot(df[\"geostationary\"],color=\"red\", alpha=0.7, marker=\"\", markersize=10,\n",
    "         linestyle=\"-\", label=\"geostationary orbit\")\n",
    "\n",
    "plt.plot(df[\"ISS\"],color=\"orange\", alpha=0.7, marker=\"\", markersize=10,\n",
    "         linestyle=\"-\", label=\"ISS orbit\")\n",
    "\n",
    "\n",
    "\n",
    "ax.set_xlabel(\"NEO No.\", fontsize=25)\n",
    "ax.set_ylabel(\"Distance [km]\", color=\"blue\", fontsize=25)\n",
    "\n",
    "ax.tick_params(labelsize=25)\n",
    "\n",
    "plt.legend(loc='center',\n",
    "           bbox_to_anchor=(0.5, -0.2),\n",
    "           fancybox=True,\n",
    "           shadow=True,\n",
    "           ncol=4,\n",
    "           fontsize=20)\n",
    "\n",
    "plt.title(f' Near earth objects - distance to earth - diameter (Data: NASA) \\n\\n', fontsize=25)\n",
    "plt.suptitle(f'Filter: distance < 1 Lunar Distances, Future only, max. diameter = {max_größe} m \\n https://cneos.jpl.nasa.gov/ca/', fontsize=15, y=0.95)\n",
    "\n",
    "plt.savefig(\"D:\\\\Github\\\\Science\\\\NEO\\\\NEO_ohne cap.png\", dpi=300, bbox_inches='tight')\n",
    "\n"
   ]
  },
  {
   "cell_type": "code",
   "execution_count": 967,
   "metadata": {},
   "outputs": [
    {
     "data": {
      "text/html": [
       "<div>\n",
       "<style scoped>\n",
       "    .dataframe tbody tr th:only-of-type {\n",
       "        vertical-align: middle;\n",
       "    }\n",
       "\n",
       "    .dataframe tbody tr th {\n",
       "        vertical-align: top;\n",
       "    }\n",
       "\n",
       "    .dataframe thead th {\n",
       "        text-align: right;\n",
       "    }\n",
       "</style>\n",
       "<table border=\"1\" class=\"dataframe\">\n",
       "  <thead>\n",
       "    <tr style=\"text-align: right;\">\n",
       "      <th></th>\n",
       "      <th>Object</th>\n",
       "      <th>Close-Approach (CA) Date</th>\n",
       "      <th>Diameter</th>\n",
       "      <th>LD</th>\n",
       "      <th>x_axis</th>\n",
       "      <th>distance_km</th>\n",
       "      <th>zero</th>\n",
       "      <th>earth</th>\n",
       "      <th>ISS</th>\n",
       "      <th>geostationary</th>\n",
       "      <th>diameter_mean</th>\n",
       "      <th>marker_size</th>\n",
       "    </tr>\n",
       "  </thead>\n",
       "  <tbody>\n",
       "    <tr>\n",
       "      <th>1</th>\n",
       "      <td>99942 Apophis (2004 MN4)</td>\n",
       "      <td>2029-Apr-13 21:46 ± &lt; 00:01</td>\n",
       "      <td>0.34±0.04 km</td>\n",
       "      <td>0.1</td>\n",
       "      <td>1</td>\n",
       "      <td>39439.9</td>\n",
       "      <td>0</td>\n",
       "      <td>6371</td>\n",
       "      <td>6779</td>\n",
       "      <td>35786</td>\n",
       "      <td>340.0</td>\n",
       "      <td>16.32</td>\n",
       "    </tr>\n",
       "  </tbody>\n",
       "</table>\n",
       "</div>"
      ],
      "text/plain": [
       "                     Object     Close-Approach (CA) Date      Diameter   LD  \\\n",
       "1  99942 Apophis (2004 MN4)  2029-Apr-13 21:46 ± < 00:01  0.34±0.04 km  0.1   \n",
       "\n",
       "   x_axis  distance_km  zero  earth   ISS  geostationary  diameter_mean  \\\n",
       "1       1      39439.9     0   6371  6779          35786          340.0   \n",
       "\n",
       "   marker_size  \n",
       "1        16.32  "
      ]
     },
     "execution_count": 967,
     "metadata": {},
     "output_type": "execute_result"
    }
   ],
   "source": [
    "df.head(1)"
   ]
  },
  {
   "cell_type": "code",
   "execution_count": 968,
   "metadata": {
    "scrolled": true
   },
   "outputs": [
    {
     "data": {
      "text/plain": [
       "<matplotlib.axes._subplots.AxesSubplot at 0x24e1064bfd0>"
      ]
     },
     "execution_count": 968,
     "metadata": {},
     "output_type": "execute_result"
    },
    {
     "data": {
      "image/png": "[encoded data removed]",
      "text/plain": [
       "<Figure size 576x396 with 1 Axes>"
      ]
     },
     "metadata": {},
     "output_type": "display_data"
    }
   ],
   "source": [
    "df.plot.scatter(x=['x_axis'], y=['distance_km'], s=df['marker_size'], c='g')\n"
   ]
  },
  {
   "cell_type": "code",
   "execution_count": null,
   "metadata": {},
   "outputs": [],
   "source": []
  }
 ],
 "metadata": {
  "kernelspec": {
   "display_name": "Python 3",
   "language": "python",
   "name": "python3"
  },
  "language_info": {
   "codemirror_mode": {
    "name": "ipython",
    "version": 3
   },
   "file_extension": ".py",
   "mimetype": "text/x-python",
   "name": "python",
   "nbconvert_exporter": "python",
   "pygments_lexer": "ipython3",
   "version": "3.8.3"
  }
 },
 "nbformat": 4,
 "nbformat_minor": 4
}

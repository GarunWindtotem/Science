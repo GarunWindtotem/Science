{
 "cells": [
  {
   "cell_type": "markdown",
   "metadata": {},
   "source": [
    "# Near earth objects"
   ]
  },
  {
   "cell_type": "markdown",
   "metadata": {},
   "source": [
    "#### https://cneos.jpl.nasa.gov/ca/"
   ]
  },
  {
   "cell_type": "code",
   "execution_count": 382,
   "metadata": {},
   "outputs": [],
   "source": [
    "from matplotlib import pyplot as plt\n",
    "import pandas as pd\n",
    "import numpy as np\n",
    "import datetime\n",
    "from datetime import datetime, timedelta\n",
    "from matplotlib.ticker import FuncFormatter"
   ]
  },
  {
   "cell_type": "code",
   "execution_count": 383,
   "metadata": {},
   "outputs": [
    {
     "data": {
      "text/plain": [
       "'2021-12-29'"
      ]
     },
     "execution_count": 383,
     "metadata": {},
     "output_type": "execute_result"
    }
   ],
   "source": [
    "now = datetime.now()\n",
    "now = now.strftime(\"%Y-%m-%d\")\n",
    "now"
   ]
  },
  {
   "cell_type": "markdown",
   "metadata": {},
   "source": [
    "### Filter"
   ]
  },
  {
   "cell_type": "code",
   "execution_count": 384,
   "metadata": {},
   "outputs": [],
   "source": [
    "filter_entfernung = 20         # Entfernung in Lunar Distances (float)\n",
    "filter_time = \"2121-12-31\"     # bis zu diesem Datum werden Daten angezeigt\n",
    "bool_Top5 = False              # Top 5 Size Text an / aus\n",
    "bool_ISS = False               # ISS Orbit anzeigen / nicht anzeigen\n",
    "bool_geostationary = False     # geostationary Orbit anzeigen / nicht anzeigen\n",
    "bool_moon = True               # moon Orbit anzeigen / nicht anzeigen"
   ]
  },
  {
   "cell_type": "markdown",
   "metadata": {},
   "source": [
    "### data import, cleaning"
   ]
  },
  {
   "cell_type": "code",
   "execution_count": 385,
   "metadata": {},
   "outputs": [],
   "source": [
    "df = pd.read_csv(\"D:\\\\Github\\\\Science\\\\NEO\\\\cneos_closeapproach_data.csv\", sep=\",\")\n",
    "df = df.drop(columns=['CA Distance Minimum (LD | au)', 'V relative (km/s)', 'V infinity (km/s)', 'H (mag)', 'Unnamed: 8'])"
   ]
  },
  {
   "cell_type": "code",
   "execution_count": 386,
   "metadata": {},
   "outputs": [],
   "source": [
    "df[\"LD\"] = df[\"CA Distance Nominal (LD | au)\"].str.split(' ', expand = True)[0]\n",
    "df[\"LD\"] = pd.to_numeric(df[\"LD\"], errors='coerce')"
   ]
  },
  {
   "cell_type": "markdown",
   "metadata": {},
   "source": [
    "### Datum"
   ]
  },
  {
   "cell_type": "code",
   "execution_count": 387,
   "metadata": {},
   "outputs": [],
   "source": [
    "df[\"Datum\"] = df[\"Close-Approach (CA) Date\"].str[:11]\n",
    "df[\"Datum\"] = pd.to_datetime(df[\"Datum\"], errors='coerce', utc=True)\n",
    "df = df.sort_values(by='Datum', ascending=True)"
   ]
  },
  {
   "cell_type": "markdown",
   "metadata": {},
   "source": [
    "### calculation"
   ]
  },
  {
   "cell_type": "code",
   "execution_count": 388,
   "metadata": {},
   "outputs": [],
   "source": [
    "df[\"distance_km\"] = df[\"LD\"] * 394_399\n",
    "df[\"zero\"]= 0\n",
    "df[\"earth\"] = 2 * 6_371\n",
    "df[\"ISS\"] = df[\"earth\"] + 408\n",
    "df[\"geostationary\"] = df[\"earth\"] + 35_786\n",
    "df[\"moon\"] = 394_399"
   ]
  },
  {
   "cell_type": "markdown",
   "metadata": {},
   "source": [
    "### size"
   ]
  },
  {
   "cell_type": "code",
   "execution_count": 389,
   "metadata": {
    "scrolled": true
   },
   "outputs": [
    {
     "data": {
      "text/html": [
       "<div>\n",
       "<style scoped>\n",
       "    .dataframe tbody tr th:only-of-type {\n",
       "        vertical-align: middle;\n",
       "    }\n",
       "\n",
       "    .dataframe tbody tr th {\n",
       "        vertical-align: top;\n",
       "    }\n",
       "\n",
       "    .dataframe thead th {\n",
       "        text-align: right;\n",
       "    }\n",
       "</style>\n",
       "<table border=\"1\" class=\"dataframe\">\n",
       "  <thead>\n",
       "    <tr style=\"text-align: right;\">\n",
       "      <th></th>\n",
       "      <th>Object</th>\n",
       "      <th>Close-Approach (CA) Date</th>\n",
       "      <th>CA Distance Nominal (LD | au)</th>\n",
       "      <th>Diameter</th>\n",
       "      <th>LD</th>\n",
       "      <th>Datum</th>\n",
       "      <th>distance_km</th>\n",
       "      <th>zero</th>\n",
       "      <th>earth</th>\n",
       "      <th>ISS</th>\n",
       "      <th>geostationary</th>\n",
       "      <th>moon</th>\n",
       "      <th>size_unit</th>\n",
       "      <th>d1</th>\n",
       "      <th>size_factor</th>\n",
       "    </tr>\n",
       "  </thead>\n",
       "  <tbody>\n",
       "    <tr>\n",
       "      <th>5805</th>\n",
       "      <td>(2021 YL)</td>\n",
       "      <td>2021-Dec-28 11:22 ±    00:41</td>\n",
       "      <td>12.86 | 0.03304</td>\n",
       "      <td>21 m -   48 m</td>\n",
       "      <td>12.86</td>\n",
       "      <td>2021-12-28 00:00:00+00:00</td>\n",
       "      <td>5071971.14</td>\n",
       "      <td>0</td>\n",
       "      <td>12742</td>\n",
       "      <td>13150</td>\n",
       "      <td>48528</td>\n",
       "      <td>394399</td>\n",
       "      <td>m</td>\n",
       "      <td>NaN</td>\n",
       "      <td>1</td>\n",
       "    </tr>\n",
       "    <tr>\n",
       "      <th>3316</th>\n",
       "      <td>(2017 AE3)</td>\n",
       "      <td>2021-Dec-29 01:54 ± 6_06:03</td>\n",
       "      <td>9.22 | 0.02370</td>\n",
       "      <td>120 m -  260 m</td>\n",
       "      <td>9.22</td>\n",
       "      <td>2021-12-29 00:00:00+00:00</td>\n",
       "      <td>3636358.78</td>\n",
       "      <td>0</td>\n",
       "      <td>12742</td>\n",
       "      <td>13150</td>\n",
       "      <td>48528</td>\n",
       "      <td>394399</td>\n",
       "      <td>m</td>\n",
       "      <td>NaN</td>\n",
       "      <td>1</td>\n",
       "    </tr>\n",
       "    <tr>\n",
       "      <th>19</th>\n",
       "      <td>(2021 YK)</td>\n",
       "      <td>2022-Jan-02 17:14 ±    07:46</td>\n",
       "      <td>0.50 | 0.00128</td>\n",
       "      <td>8.9 m -   20 m</td>\n",
       "      <td>0.50</td>\n",
       "      <td>2022-01-02 00:00:00+00:00</td>\n",
       "      <td>197199.50</td>\n",
       "      <td>0</td>\n",
       "      <td>12742</td>\n",
       "      <td>13150</td>\n",
       "      <td>48528</td>\n",
       "      <td>394399</td>\n",
       "      <td>m</td>\n",
       "      <td>NaN</td>\n",
       "      <td>1</td>\n",
       "    </tr>\n",
       "  </tbody>\n",
       "</table>\n",
       "</div>"
      ],
      "text/plain": [
       "          Object      Close-Approach (CA) Date CA Distance Nominal (LD | au)  \\\n",
       "5805   (2021 YL)  2021-Dec-28 11:22 ±    00:41               12.86 | 0.03304   \n",
       "3316  (2017 AE3)   2021-Dec-29 01:54 ± 6_06:03                9.22 | 0.02370   \n",
       "19     (2021 YK)  2022-Jan-02 17:14 ±    07:46                0.50 | 0.00128   \n",
       "\n",
       "            Diameter     LD                     Datum  distance_km  zero  \\\n",
       "5805   21 m -   48 m  12.86 2021-12-28 00:00:00+00:00   5071971.14     0   \n",
       "3316  120 m -  260 m   9.22 2021-12-29 00:00:00+00:00   3636358.78     0   \n",
       "19    8.9 m -   20 m   0.50 2022-01-02 00:00:00+00:00    197199.50     0   \n",
       "\n",
       "      earth    ISS  geostationary    moon size_unit  d1  size_factor  \n",
       "5805  12742  13150          48528  394399         m NaN            1  \n",
       "3316  12742  13150          48528  394399         m NaN            1  \n",
       "19    12742  13150          48528  394399         m NaN            1  "
      ]
     },
     "execution_count": 389,
     "metadata": {},
     "output_type": "execute_result"
    }
   ],
   "source": [
    "# km oder m auslesen\n",
    "df[\"size_unit\"] = df[\"Diameter\"].str[-2:]\n",
    "\n",
    "# Teile alle Durchmesser mit ±\n",
    "df[\"d1\"] = df[\"Diameter\"].str.split('±', expand = True)[0]\n",
    "df[\"d1\"] = pd.to_numeric(df[\"d1\"], errors='coerce')\n",
    "\n",
    "# definiere size factor = 1000, ausser bei \" m\" = 1\n",
    "df[\"size_factor\"] = 1_000\n",
    "df.loc[df[\"size_unit\"] == \" m\", \"size_factor\"] = 1\n",
    "df.head(3)"
   ]
  },
  {
   "cell_type": "code",
   "execution_count": 390,
   "metadata": {
    "scrolled": true
   },
   "outputs": [],
   "source": [
    "# mittlerer Durchmesser ermitteln\n",
    "\n",
    "df[\"d_von\"] = df[\"Diameter\"].str.split(' ', expand = True)[0]\n",
    "df[\"d_von\"] = pd.to_numeric(df[\"d_von\"], errors='coerce')\n",
    "\n",
    "df[\"d_bis\"] = df[\"Diameter\"].str.split('- ', expand = True)[1]\n",
    "df[\"d_bis\"] = df[\"d_bis\"].str.split(' m', expand = True)[0]\n",
    "df[\"d_bis\"] = pd.to_numeric(df[\"d_bis\"], errors='coerce')\n",
    "\n",
    "df[\"mittel1\"] = df[\"d1\"] * df[\"size_factor\"]\n",
    "df[\"mittel1\"] = df[\"mittel1\"].fillna(1)\n",
    "\n",
    "df[\"mittel2\"] = (df[\"d_von\"]+df[\"d_bis\"]) *(1/2) * df[\"size_factor\"]\n",
    "df[\"mittel2\"] = df[\"mittel2\"].fillna(1)\n",
    "\n",
    "df[\"diameter_mean\"] = df[\"mittel1\"] * df[\"mittel2\"]\n",
    "\n",
    "df = df.drop(columns=['d1', \n",
    "                      'd_von', \n",
    "                      'd_bis', \n",
    "                      'mittel1', \n",
    "                      'mittel2', \n",
    "                      'size_factor', \n",
    "                      'CA Distance Nominal (LD | au)', \n",
    "                      'size_unit',\n",
    "                      'Close-Approach (CA) Date'])\n",
    "\n",
    "# df"
   ]
  },
  {
   "cell_type": "code",
   "execution_count": 391,
   "metadata": {},
   "outputs": [],
   "source": [
    "df = df.loc[df[\"LD\"] < filter_entfernung]"
   ]
  },
  {
   "cell_type": "code",
   "execution_count": 392,
   "metadata": {},
   "outputs": [
    {
     "data": {
      "text/plain": [
       "datetime64[ns, UTC]"
      ]
     },
     "execution_count": 392,
     "metadata": {},
     "output_type": "execute_result"
    }
   ],
   "source": [
    "df[\"Datum\"].dtypes"
   ]
  },
  {
   "cell_type": "code",
   "execution_count": 393,
   "metadata": {},
   "outputs": [],
   "source": [
    "df = df[(df['Datum'] > now) & (df['Datum'] < filter_time)]\n",
    "\n",
    "# df = df.loc[df[\"Datum\"] < filter_entfernung]"
   ]
  },
  {
   "cell_type": "code",
   "execution_count": 394,
   "metadata": {},
   "outputs": [
    {
     "data": {
      "text/plain": [
       "6250.0"
      ]
     },
     "execution_count": 394,
     "metadata": {},
     "output_type": "execute_result"
    }
   ],
   "source": [
    "max_größe = df[\"diameter_mean\"].max()\n",
    "df[\"marker_size\"] = 300 * (df[\"diameter_mean\"] / max_größe)\n",
    "max_größe"
   ]
  },
  {
   "cell_type": "markdown",
   "metadata": {},
   "source": [
    "### Position Textboxen"
   ]
  },
  {
   "cell_type": "code",
   "execution_count": 395,
   "metadata": {},
   "outputs": [
    {
     "name": "stdout",
     "output_type": "stream",
     "text": [
      "8008\n"
     ]
    }
   ],
   "source": [
    "df = df.sort_values(by='Datum', ascending=True)\n",
    "df.index = np.arange(1, len(df) + 1 )\n",
    "df[\"x_axis\"] = df.index\n",
    "\n",
    "x_achse_max = df[\"x_axis\"].max()\n",
    "print(x_achse_max)\n",
    "df[\"pos_x_achse\"] = (df[\"x_axis\"] / x_achse_max)*0.90"
   ]
  },
  {
   "cell_type": "code",
   "execution_count": 396,
   "metadata": {},
   "outputs": [
    {
     "name": "stdout",
     "output_type": "stream",
     "text": [
      "7675004.54\n"
     ]
    }
   ],
   "source": [
    "df = df.sort_values(by='distance_km', ascending=True)\n",
    "y_achse_max = df[\"distance_km\"].max()\n",
    "print(y_achse_max)\n",
    "df[\"pos_y_achse\"] = (df[\"distance_km\"] / y_achse_max)*0.97"
   ]
  },
  {
   "cell_type": "code",
   "execution_count": 397,
   "metadata": {},
   "outputs": [],
   "source": [
    "# definiere size factor = 1000, ausser bei \" m\" = 1\n",
    "df = df.sort_values(by='diameter_mean', ascending=False)\n",
    "df.index = np.arange(1, len(df) + 1 )\n",
    "df[\"x_axis\"] = df.index\n",
    "\n",
    "df.loc[df[\"x_axis\"] <=5 , \"Top5\"] = df[\"Object\"]\n",
    "df[\"Top5\"] = df[\"Top5\"].fillna(\"\")\n",
    "df = df.sort_values(by='diameter_mean', ascending=True)"
   ]
  },
  {
   "cell_type": "code",
   "execution_count": 398,
   "metadata": {},
   "outputs": [],
   "source": [
    "df = df.sort_values(by='Datum', ascending=True)"
   ]
  },
  {
   "cell_type": "markdown",
   "metadata": {},
   "source": [
    "### visualize"
   ]
  },
  {
   "cell_type": "code",
   "execution_count": null,
   "metadata": {
    "scrolled": true
   },
   "outputs": [],
   "source": [
    "plt.clf()\n",
    "\n",
    "def y_axis_thousands(x, pos):\n",
    "    # 'The two args are the value and tick position'\n",
    "    return '{:0,d}'.format(int(x)).replace(\",\", \".\")\n",
    "\n",
    "plt.style.use('seaborn')\n",
    "fig, ax = plt.subplots(figsize=(20, 9))\n",
    "formatter = FuncFormatter(y_axis_thousands)\n",
    "ax.yaxis.set_major_formatter(formatter)\n",
    "\n",
    "# plt.plot(df[\"distance_km\"],color=\"blue\", alpha=0.7, marker=\".\", markersize=marker_size_list1,\n",
    "#          linestyle=\"\", label=\"Near earth object\")\n",
    "\n",
    "\n",
    "[ax.plot(row['Datum'], row['distance_km'], '.', markersize=row['marker_size'], alpha=0.7, color = \"purple\", label = \"\") for idx, row in df.iterrows()]\n",
    "\n",
    "if bool_Top5 == True:\n",
    "    [ax.text(row['pos_x_achse'], row['pos_y_achse'], row['Top5'], horizontalalignment='center', color=\"black\", alpha=1, verticalalignment='center', transform=ax.transAxes, size=15) for idx, row in df.iterrows()]\n",
    "\n",
    "# plt.plot(df[\"zero\"],color=\"brown\", alpha=0.7, marker=\"\", markersize=10,\n",
    "#          linestyle=\"-\", label=\"\")\n",
    "\n",
    "# plt.plot(df[\"earth\"],color=\"brown\", alpha=0.7, marker=\"\", markersize=10,\n",
    "#          linestyle=\"-\", label=\"\")\n",
    "\n",
    "plt.fill_between(df[\"Datum\"], df['earth'], df['zero'], color='blue', alpha=0.5,\n",
    "                 label=f'earth')\n",
    "\n",
    "if bool_geostationary == True:\n",
    "    plt.plot(df[\"Datum\"], df[\"geostationary\"],color=\"red\", alpha=0.7, marker=\"\", markersize=10,\n",
    "             linestyle=\"-\", label=\"geostationary orbit\")\n",
    "\n",
    "if bool_ISS == True:\n",
    "    plt.plot(df[\"Datum\"], df[\"ISS\"],color=\"orange\", alpha=0.7, marker=\"\", markersize=10,\n",
    "             linestyle=\"-\", label=\"ISS orbit\")\n",
    "\n",
    "if bool_moon == True:\n",
    "    plt.plot(df[\"Datum\"], df[\"moon\"],color=\"silver\", alpha=0.7, marker=\"\", markersize=10,\n",
    "             linestyle=\"-\", label=\"moon orbit\")\n",
    "\n",
    "\n",
    "# ax.text(0, 0, \"(0,0)\", horizontalalignment='center', verticalalignment='center', transform=ax.transAxes, size=15)\n",
    "# ax.text(0, 1, \"(0,1)\", horizontalalignment='center', verticalalignment='center', transform=ax.transAxes, size=15)\n",
    "# ax.text(1, 0, \"(1,0)\", horizontalalignment='center', verticalalignment='center', transform=ax.transAxes, size=15)\n",
    "# ax.text(0.5, 0.5, \"(0.5,0.5)\", horizontalalignment='center', verticalalignment='center', transform=ax.transAxes, size=15)\n",
    "# ax.text(1, 1, \"(1,1)\", horizontalalignment='center', verticalalignment='center', transform=ax.transAxes, size=15)\n",
    "\n",
    "ax.set_xlabel(\"Time of close approach\", fontsize=25)\n",
    "ax.set_ylabel(\"Distance [km]\", color=\"blue\", fontsize=25)\n",
    "\n",
    "ax.tick_params(labelsize=25)\n",
    "\n",
    "plt.legend(loc='center',\n",
    "           bbox_to_anchor=(0.5, -0.2),\n",
    "           fancybox=True,\n",
    "           shadow=True,\n",
    "           ncol=4,\n",
    "           fontsize=20)\n",
    "\n",
    "plt.title(f' Near earth objects - distance to earth - diameter (Data: NASA) \\n\\n', fontsize=25)\n",
    "plt.suptitle(f'Filter: distance < {filter_entfernung} Lunar Distances, Future only, max. diameter = {max_größe} m \\n https://cneos.jpl.nasa.gov/ca/ \\n {now} PW', fontsize=15, y=0.95)\n",
    "\n",
    "plt.savefig(f'D:\\\\Github\\\\Science\\\\NEO\\\\NEO_{filter_entfernung} Lunar Distances.png', dpi=300, bbox_inches='tight')\n",
    "\n"
   ]
  }
 ],
 "metadata": {
  "kernelspec": {
   "display_name": "Python 3",
   "language": "python",
   "name": "python3"
  },
  "language_info": {
   "codemirror_mode": {
    "name": "ipython",
    "version": 3
   },
   "file_extension": ".py",
   "mimetype": "text/x-python",
   "name": "python",
   "nbconvert_exporter": "python",
   "pygments_lexer": "ipython3",
   "version": "3.8.3"
  }
 },
 "nbformat": 4,
 "nbformat_minor": 4
}

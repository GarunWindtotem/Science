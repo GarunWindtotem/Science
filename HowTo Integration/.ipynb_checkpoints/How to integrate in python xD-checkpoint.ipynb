{
 "cells": [
  {
   "cell_type": "markdown",
   "metadata": {},
   "source": [
    "# How to integrate in python"
   ]
  },
  {
   "cell_type": "markdown",
   "metadata": {},
   "source": [
    "### analytical integration"
   ]
  },
  {
   "cell_type": "code",
   "execution_count": 12,
   "metadata": {},
   "outputs": [
    {
     "name": "stdout",
     "output_type": "stream",
     "text": [
      " f(x) = 3.0*x**2 + 1\n",
      " F(x) = 1.0*x**3 + 1.0*x\n"
     ]
    }
   ],
   "source": [
    "import sympy as sp\n",
    "x = sp.Symbol('x')\n",
    "X = sp.integrate(3.0*x**2+1,x)\n",
    "\n",
    "print(f' f(x) = {3.0*x**2+1}')\n",
    "print(f' F(x) = {X}')"
   ]
  },
  {
   "cell_type": "markdown",
   "metadata": {},
   "source": [
    "### numerically integration"
   ]
  },
  {
   "cell_type": "code",
   "execution_count": 10,
   "metadata": {},
   "outputs": [
    {
     "name": "stdout",
     "output_type": "stream",
     "text": [
      "13.0\n",
      " quad = (10.000000000000002, 1.1102230246251568e-13)\n",
      " F(x) = 10.000000000000002\n",
      " error  = 1.1102230246251568e-13\n"
     ]
    }
   ],
   "source": [
    "from scipy.integrate import quad\n",
    "\n",
    "def f(x):\n",
    "    return 3.0 * x**2 + 1\n",
    "i = quad(f, 0, 2)            # integrationsgrenzen von 0 bis 2\n",
    "\n",
    "print(f(2))\n",
    "\n",
    "print(f' quad = {i}')\n",
    "print(f' F(x) = {i[0]}')     # Integral\n",
    "print(f' error  = {i[1]}')   # ca. Fehler"
   ]
  }
 ],
 "metadata": {
  "kernelspec": {
   "display_name": "Python 3",
   "language": "python",
   "name": "python3"
  },
  "language_info": {
   "codemirror_mode": {
    "name": "ipython",
    "version": 3
   },
   "file_extension": ".py",
   "mimetype": "text/x-python",
   "name": "python",
   "nbconvert_exporter": "python",
   "pygments_lexer": "ipython3",
   "version": "3.8.3"
  }
 },
 "nbformat": 4,
 "nbformat_minor": 4
}
